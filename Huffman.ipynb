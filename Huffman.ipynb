{
 "cells": [
  {
   "cell_type": "markdown",
   "metadata": {},
   "source": [
    "# Huffman Coding"
   ]
  },
  {
   "cell_type": "markdown",
   "metadata": {},
   "source": [
    "Huffman code is a particular type of optimal prefix code that is commonly used for lossless data compression. \n",
    "It will be easier to find the letter A than the letter Z, so attempted to encode the letters more frequently, such as A, with shorter binary codes than those used for Z, in this way the most frequent letters in a text are replaced by shorter bit codes."
   ]
  },
  {
   "cell_type": "code",
   "execution_count": 1,
   "metadata": {},
   "outputs": [],
   "source": [
    "import math\n",
    "import matplotlib.pyplot as plt"
   ]
  },
  {
   "cell_type": "code",
   "execution_count": 25,
   "metadata": {},
   "outputs": [],
   "source": [
    "n = int(input(\"enter the number of char: \"))\n",
    "# 10 "
   ]
  },
  {
   "cell_type": "code",
   "execution_count": 15,
   "metadata": {},
   "outputs": [],
   "source": [
    "def open_text(url):\n",
    "    text=''\n",
    "    with open(url,'r') as file:\n",
    "        text=file.read()\n",
    "    return text[0:n]\n",
    "\n",
    "\n",
    "class NodeTree(object):\n",
    "    def __init__(self, left=None, right=None):\n",
    "        self.left = left\n",
    "        self.right = right\n",
    "\n",
    "    def children(self):\n",
    "        return (self.left, self.right)\n",
    "\n",
    "    def nodes(self):\n",
    "        return (self.left, self.right)\n",
    "\n",
    "    def __str__(self):\n",
    "        return \"%s_%s\" % (self.left, self.right)\n",
    "\n",
    "\n",
    "\n",
    "def huffmanCodeTree(node, left=True, binString=\"\"):\n",
    "    if type(node) is str:\n",
    "        return {node: binString}\n",
    "    (l, r) = node.children()\n",
    "    d = dict()\n",
    "    d.update(huffmanCodeTree(l, True, binString + \"0\"))\n",
    "    d.update(huffmanCodeTree(r, False, binString + \"1\"))\n",
    "    return d"
   ]
  },
  {
   "cell_type": "code",
   "execution_count": 16,
   "metadata": {},
   "outputs": [
    {
     "name": "stdout",
     "output_type": "stream",
     "text": [
      " Char | Freq  | Huffman code \n",
      "-----------------------------\n",
      " ' '  | 0.180000 |           00\n",
      " 'o'  | 0.120000 |          100\n",
      " 'd'  | 0.100000 |          010\n",
      " 'r'  | 0.080000 |         1011\n",
      " 'w'  | 0.060000 |         0111\n",
      " 'e'  | 0.060000 |         0110\n",
      " 'a'  | 0.040000 |        11101\n",
      " 's'  | 0.040000 |        11100\n",
      " 'i'  | 0.040000 |        11111\n",
      " 'n'  | 0.040000 |        11110\n",
      " 'y'  | 0.040000 |        11001\n",
      " 'l'  | 0.040000 |        11000\n",
      " 'T'  | 0.020000 |       101001\n",
      " 'v'  | 0.020000 |       101000\n",
      " 'g'  | 0.020000 |       101011\n",
      " ','  | 0.020000 |       101010\n",
      " '\\n' | 0.020000 |       110101\n",
      " 'A'  | 0.020000 |       110100\n",
      " 'I'  | 0.020000 |       110111\n",
      " 'c'  | 0.020000 |       110110\n",
      "Hash bit: 400\n",
      "Huffman bit: 98\n",
      "Percentage of space recovered with Huffman:  24%\n"
     ]
    }
   ],
   "source": [
    "entropy_list=[]\n",
    "space=[]\n",
    "L_list=[] \n",
    "\n",
    "\n",
    "\n",
    "string=open_text('/Users/Dario/Desktop/Matlab/HW 2/text_Huffman.txt')\n",
    "\n",
    "\n",
    "freq = {}\n",
    "for c in string:\n",
    "    if c in freq:\n",
    "        freq[c] += 1\n",
    "    else:\n",
    "        freq[c] = 1\n",
    "\n",
    "prob=[i/n for i in freq.values()]\n",
    "char=[i for i in freq.keys()]\n",
    "\n",
    "freq=dict(zip(char,prob))\n",
    "\n",
    "entropy=-(sum([k * math.log(k) for k in freq.values()]))\n",
    "\n",
    "freq = sorted(freq.items(), key=lambda x: (x[1]), reverse=True)\n",
    "\n",
    "nodes = freq\n",
    "\n",
    "\n",
    "while len(nodes) > 1:\n",
    "    \n",
    "    #prendo l'ultimo oggetto di nodes\n",
    "    key1, c1 = nodes[-1]\n",
    "    #prendo il penultimo oggetto di nodes\n",
    "    key2, c2 = nodes[-2]\n",
    "    \n",
    "    #rimuovo questi due oggetti da nodes\n",
    "    nodes = nodes[:-2]\n",
    "    \n",
    "    #con la classe NodeTree accorpo i due oggetti in un unico oggetto.\n",
    "    node = NodeTree(key1, key2)\n",
    "    #aggiungo questo nuovo oggetto 'accorpato' alla lista Nodes\n",
    "    nodes.append((node, c1 + c2))\n",
    "    # rifaccio il sort della lista e ricomincio\n",
    "    nodes = sorted(nodes, key=lambda x: x[1], reverse=True)\n",
    "\n",
    "    \n",
    "huffmanCode = huffmanCodeTree(nodes[0][0])\n",
    "\n",
    "\n",
    "prob_times_lengthchar=[] #sum of pi * li(length of bit of each char)\n",
    "\n",
    "\n",
    "print (\" Char | Freq  | Huffman code \")\n",
    "print (\"-----------------------------\")\n",
    "hauffman_bit=0\n",
    "#prob_times_lengthchar=[] #sum of pi * li(length of bit of each char)\n",
    "for char, frequency in freq:\n",
    "    print (\" %-4r | %f | %12s\" % (char, frequency, huffmanCode[char]))\n",
    "    hauffman_bit+=len(huffmanCode[char])\n",
    "    prob_times_lengthchar.append(len(huffmanCode[char])*frequency)\n",
    "\n",
    "\n",
    "L=sum(prob_times_lengthchar)\n",
    "L_list.append(L)\n",
    "entropy_list.append(entropy)\n",
    "\n",
    "hash_bit=n*8\n",
    "save_space=(hauffman_bit/hash_bit)*100\n",
    "\n",
    "print('Hash bit: '+str(hash_bit))\n",
    "print('Huffman bit: '+str(hauffman_bit))\n",
    "print('Percentage of space recovered with Huffman: ',str(round(save_space))+'%')\n"
   ]
  },
  {
   "cell_type": "markdown",
   "metadata": {},
   "source": [
    "# Let's try for a list of number of char"
   ]
  },
  {
   "cell_type": "code",
   "execution_count": 18,
   "metadata": {},
   "outputs": [],
   "source": [
    "input_number=list(map(int, input(\"enter a list of number of char: \").split())) #731 max length\n",
    "# 10 50 200 731"
   ]
  },
  {
   "cell_type": "code",
   "execution_count": 19,
   "metadata": {},
   "outputs": [],
   "source": [
    "entropy_list=[]\n",
    "space=[]\n",
    "L_list=[]\n",
    "\n",
    "for n in input_number:\n",
    "\n",
    "    \n",
    "    string=open_text('/Users/Dario/Desktop/Matlab/HW 2/text_Huffman.txt')\n",
    "\n",
    "    \n",
    "    freq = {}\n",
    "    for c in string:\n",
    "        if c in freq:\n",
    "            freq[c] += 1\n",
    "        else:\n",
    "            freq[c] = 1\n",
    "    \n",
    "    prob=[i/n for i in freq.values()]\n",
    "    char=[i for i in freq.keys()]   \n",
    "    freq=dict(zip(char,prob))\n",
    "    \n",
    "    #entropy formula -sum(pi*log2(pi))\n",
    "    entropy=-(sum([k * math.log2(k) for k in freq.values()]))\n",
    "    \n",
    "    #Sort the frequency table based on occurrence this will also convert the\n",
    "    #dict to a list of tuples\n",
    "    freq = sorted(freq.items(), key=lambda x: (x[1]), reverse=True)\n",
    "\n",
    "    \n",
    "    nodes = freq\n",
    "    \n",
    "    while len(nodes) > 1:\n",
    "        key1, c1 = nodes[-1]\n",
    "        key2, c2 = nodes[-2]\n",
    "        nodes = nodes[:-2]\n",
    "        node = NodeTree(key1, key2)\n",
    "        nodes.append((node, c1 + c2))\n",
    "        # Re-sort the list\n",
    "        nodes = sorted(nodes, key=lambda x: x[1], reverse=True)\n",
    "    \n",
    "    \n",
    "    huffmanCode = huffmanCodeTree(nodes[0][0])\n",
    "    \n",
    "    prob_times_lengthchar=[] \n",
    "    hauffman_bit=0\n",
    "    for char, frequency in freq:\n",
    "        hauffman_bit+=len(huffmanCode[char])\n",
    "        prob_times_lengthchar.append(len(huffmanCode[char])*frequency)\n",
    "    \n",
    "    L=sum(prob_times_lengthchar) #sum of pi * li(length of bit of each char)\n",
    "    L_list.append(L)\n",
    "    hash_bit=n*8\n",
    "    save_space=100-(hauffman_bit/hash_bit)*100\n",
    "    space.append(save_space)\n",
    "    \n",
    "    entropy_list.append(entropy)\n",
    "    \n",
    "    values=[]\n",
    "    for i in range(len(entropy_list)):\n",
    "        value=L_list[i]/entropy_list[i]\n",
    "        # L(n) / entropy\n",
    "        values.append(value)"
   ]
  },
  {
   "cell_type": "markdown",
   "metadata": {},
   "source": [
    "In the plot below we show  how as the number of char increases, the saving percentage over the original message with **Hauffman** increases, we compute the following calculation:\n",
    "\n",
    "$save_{space}=\\bigg(100-\\frac{Hauffman_{bit}}{Hash_{bit}}\\bigg)\\cdot 100$\n",
    "\n",
    "So it means that:\n",
    "\n",
    "+ if we choose 3 like number of char the the saving percentage over the original message will be of $79\\%$\n",
    "+ if we if we choose 100 like number of char the the saving percentage over the original message will be of $85\\%$"
   ]
  },
  {
   "cell_type": "code",
   "execution_count": 7,
   "metadata": {},
   "outputs": [],
   "source": [
    "import seaborn as sns"
   ]
  },
  {
   "cell_type": "code",
   "execution_count": 20,
   "metadata": {},
   "outputs": [
    {
     "data": {
      "image/png": "[encoded data removed]",
      "text/plain": [
       "<matplotlib.figure.Figure at 0x1a159916a0>"
      ]
     },
     "metadata": {},
     "output_type": "display_data"
    }
   ],
   "source": [
    "sns.set_style(\"whitegrid\")\n",
    "plt.plot(input_number,space,color='red')\n",
    "plt.title('Trend of the saving percentage \\n over the original message')\n",
    "plt.xlabel('number of char')\n",
    "plt.ylabel('percentage of saving')\n",
    "plt.show()"
   ]
  },
  {
   "cell_type": "markdown",
   "metadata": {},
   "source": [
    "At this point we are able to display another plot which represents the relationship between:\n",
    "+  $\\tilde{L}_n$\n",
    "+  $H(S_n)$\n",
    "\n",
    "Where:\n",
    "1. $\\tilde{L}_n=\\sum_{i=1}^n p_i \\cdot l_i$ \n",
    "    \n",
    "    + $i=char_i$\n",
    "    + $p=\\frac{frequence(char_i)}{\\text{n° of tot.char}}$\n",
    "    + $l_i$ $\\rightarrow$ length in **Hauffman** bit of $char_i$\n",
    " \n",
    "2. $H(S_n)=-\\sum_{i=1}^n p_i \\cdot log_2(p_i)$ "
   ]
  },
  {
   "cell_type": "code",
   "execution_count": 21,
   "metadata": {},
   "outputs": [
    {
     "data": {
      "image/png": "[encoded data removed]",
      "text/plain": [
       "<matplotlib.figure.Figure at 0x1a167fd438>"
      ]
     },
     "metadata": {},
     "output_type": "display_data"
    }
   ],
   "source": [
    "sns.set_style(\"whitegrid\")\n",
    "plt.plot(input_number,values)\n",
    "plt.ylim(0.95,1.1)\n",
    "plt.title(r'$\\tilde L_n /H(S_n)$',fontsize=14)\n",
    "plt.xlabel('number of char')\n",
    "plt.axhline(1, color='r')\n",
    "plt.show()"
   ]
  },
  {
   "cell_type": "code",
   "execution_count": null,
   "metadata": {},
   "outputs": [],
   "source": []
  }
 ],
 "metadata": {
  "kernelspec": {
   "display_name": "Python 3",
   "language": "python",
   "name": "python3"
  },
  "language_info": {
   "codemirror_mode": {
    "name": "ipython",
    "version": 3
   },
   "file_extension": ".py",
   "mimetype": "text/x-python",
   "name": "python",
   "nbconvert_exporter": "python",
   "pygments_lexer": "ipython3",
   "version": "3.6.1"
  }
 },
 "nbformat": 4,
 "nbformat_minor": 2
}
